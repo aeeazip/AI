{
 "cells": [
  {
   "cell_type": "code",
   "execution_count": 2,
   "metadata": {},
   "outputs": [
    {
     "name": "stdout",
     "output_type": "stream",
     "text": [
      "(4803, 20)\n",
      "Pirates of the Caribbean: At World's End\n",
      "      budget                                             genres  \\\n",
      "0  237000000  [{\"id\": 28, \"name\": \"Action\"}, {\"id\": 12, \"nam...   \n",
      "1  300000000  [{\"id\": 12, \"name\": \"Adventure\"}, {\"id\": 14, \"...   \n",
      "\n",
      "                                       homepage     id  \\\n",
      "0                   http://www.avatarmovie.com/  19995   \n",
      "1  http://disney.go.com/disneypictures/pirates/    285   \n",
      "\n",
      "                                            keywords original_language  \\\n",
      "0  [{\"id\": 1463, \"name\": \"culture clash\"}, {\"id\":...                en   \n",
      "1  [{\"id\": 270, \"name\": \"ocean\"}, {\"id\": 726, \"na...                en   \n",
      "\n",
      "                             original_title  \\\n",
      "0                                    Avatar   \n",
      "1  Pirates of the Caribbean: At World's End   \n",
      "\n",
      "                                            overview  popularity  \\\n",
      "0  In the 22nd century, a paraplegic Marine is di...  150.437577   \n",
      "1  Captain Barbossa, long believed to be dead, ha...  139.082615   \n",
      "\n",
      "                                production_companies  \\\n",
      "0  [{\"name\": \"Ingenious Film Partners\", \"id\": 289...   \n",
      "1  [{\"name\": \"Walt Disney Pictures\", \"id\": 2}, {\"...   \n",
      "\n",
      "                                production_countries release_date     revenue  \\\n",
      "0  [{\"iso_3166_1\": \"US\", \"name\": \"United States o...   2009-12-10  2787965087   \n",
      "1  [{\"iso_3166_1\": \"US\", \"name\": \"United States o...   2007-05-19   961000000   \n",
      "\n",
      "   runtime                                   spoken_languages    status  \\\n",
      "0    162.0  [{\"iso_639_1\": \"en\", \"name\": \"English\"}, {\"iso...  Released   \n",
      "1    169.0           [{\"iso_639_1\": \"en\", \"name\": \"English\"}]  Released   \n",
      "\n",
      "                                          tagline  \\\n",
      "0                     Enter the World of Pandora.   \n",
      "1  At the end of the world, the adventure begins.   \n",
      "\n",
      "                                      title  vote_average  vote_count  \n",
      "0                                    Avatar           7.2       11800  \n",
      "1  Pirates of the Caribbean: At World's End           6.9        4500  \n"
     ]
    }
   ],
   "source": [
    "import pandas as pd\n",
    "import matplotlib.pyplot as plt\n",
    "\n",
    "df1 = pd.read_csv('./dataset/tmdb_5000_movies.csv', header=0) \n",
    "print( df1.shape )\n",
    "print( df1['title'][1] )\n",
    "print( df1.head(2) )"
   ]
  },
  {
   "cell_type": "code",
   "execution_count": 3,
   "metadata": {
    "scrolled": true
   },
   "outputs": [
    {
     "name": "stdout",
     "output_type": "stream",
     "text": [
      "(4803, 8)\n",
      "       id  vote_average  vote_count\n",
      "0   19995           7.2       11800\n",
      "1     285           6.9        4500\n",
      "2  206647           6.3        4466\n"
     ]
    }
   ],
   "source": [
    "df2 = df1[ ['id', 'genres', 'vote_average', 'vote_count', 'popularity', 'title', 'keywords', 'overview'] ]\n",
    "print( df2.shape )\n",
    "print( df2[['id', 'vote_average', 'vote_count']][:3]  )"
   ]
  },
  {
   "cell_type": "code",
   "execution_count": 28,
   "metadata": {
    "scrolled": true
   },
   "outputs": [
    {
     "name": "stdout",
     "output_type": "stream",
     "text": [
      "                                              genres\n",
      "0  [{\"id\": 28, \"name\": \"Action\"}, {\"id\": 12, \"nam...\n",
      "1  [{\"id\": 12, \"name\": \"Adventure\"}, {\"id\": 14, \"...\n",
      "2  [{\"id\": 28, \"name\": \"Action\"}, {\"id\": 12, \"nam...\n",
      "(4803, 440)\n",
      "  (0, 255)\t4\n",
      "  (0, 33)\t1\n",
      "  (0, 331)\t4\n",
      "  (0, 60)\t1\n",
      "  (0, 18)\t1\n",
      "  (0, 77)\t1\n",
      "  (0, 21)\t1\n",
      "  (0, 192)\t1\n",
      "  (0, 51)\t1\n",
      "  (0, 391)\t1\n",
      "  (0, 207)\t1\n",
      "  (0, 278)\t1\n",
      "  (0, 34)\t1\n",
      "  (0, 332)\t1\n",
      "  (0, 61)\t1\n",
      "  (0, 268)\t1\n",
      "  (0, 19)\t1\n",
      "  (0, 334)\t1\n",
      "  (0, 78)\t1\n",
      "  (0, 270)\t1\n",
      "  (0, 22)\t1\n",
      "  (0, 348)\t1\n",
      "  (0, 193)\t1\n",
      "  (0, 290)\t1\n",
      "  (0, 52)\t1\n",
      "  (0, 362)\t1\n",
      "  (0, 392)\t1\n",
      "  (0, 279)\t1\n",
      "  (0, 35)\t1\n",
      "  (0, 333)\t1\n",
      "  (0, 65)\t1\n",
      "  (0, 269)\t1\n",
      "  (0, 20)\t1\n",
      "  (0, 335)\t1\n",
      "  (0, 82)\t1\n",
      "  (0, 271)\t1\n",
      "  (0, 23)\t1\n",
      "  (0, 349)\t1\n",
      "  (0, 205)\t1\n",
      "  (0, 291)\t1\n",
      "  (0, 53)\t1\n",
      "  (0, 363)\t1\n",
      "add1: \n",
      "  (0, 33)\t1\n",
      "  (0, 18)\t1\n",
      "  (0, 21)\t1\n",
      "  (0, 34)\t1\n",
      "  (0, 19)\t1\n",
      "  (0, 22)\t1\n",
      "  (0, 35)\t1\n",
      "  (0, 20)\t1\n",
      "  (0, 23)\t1\n",
      "add2: \n",
      "0 0 1 4\n",
      "0 0 0\n"
     ]
    }
   ],
   "source": [
    "from sklearn.feature_extraction.text import CountVectorizer\n",
    "\n",
    "print( df2[['genres']].head(3) )\n",
    "count_vector = CountVectorizer( ngram_range=(1,3) )\n",
    "c_vector_genres = count_vector.fit_transform( df2['genres'] )\n",
    "print( c_vector_genres.shape )\n",
    "print( c_vector_genres[0] )\n",
    "print( \"add1: \")\n",
    "print( c_vector_genres[0, 0:40] )\n",
    "print( \"add2: \")\n",
    "print( c_vector_genres[0, 0], c_vector_genres[0, 1],  c_vector_genres[0, 33], c_vector_genres[0, 255])\n",
    "print( c_vector_genres[1, 0], c_vector_genres[1, 1],  c_vector_genres[1, 2])"
   ]
  },
  {
   "cell_type": "code",
   "execution_count": 63,
   "metadata": {},
   "outputs": [
    {
     "name": "stdout",
     "output_type": "stream",
     "text": [
      "[[1.         0.87841046 0.755433   ... 0.44444444 0.         0.31426968]\n",
      " [0.87841046 1.         0.75555556 ... 0.42163702 0.         0.2981424 ]\n",
      " [0.755433   0.75555556 1.         ... 0.42163702 0.         0.2981424 ]\n",
      " ...\n",
      " [0.44444444 0.42163702 0.42163702 ... 1.         0.         0.31426968]\n",
      " [0.         0.         0.         ... 0.         0.         0.        ]\n",
      " [0.31426968 0.2981424  0.2981424  ... 0.31426968 0.         1.        ]]\n",
      "[[   0  870   46 ... 4400 4674 4571]\n",
      " [ 330  129 2390 ... 4681 4293 4633]\n",
      " [1740 1542    2 ... 4657 4674 4504]\n",
      " ...\n",
      " [4800 3809 3805 ... 4657 4622 4105]\n",
      " [4802 1594 1596 ... 3204 3205    0]\n",
      " [4802 4002 4616 ... 4633 4550 4714]]\n"
     ]
    }
   ],
   "source": [
    "from sklearn.metrics.pairwise import cosine_similarity\n",
    "\n",
    "genres_c_sim = cosine_similarity( c_vector_genres )\n",
    "print( genres_c_sim )\n",
    "\n",
    "genres_c_sim = genres_c_sim.argsort()[:, ::-1]\n",
    "print( genres_c_sim )"
   ]
  },
  {
   "cell_type": "code",
   "execution_count": 61,
   "metadata": {},
   "outputs": [
    {
     "name": "stdout",
     "output_type": "stream",
     "text": [
      "[0]\n",
      "[[   0  870   46 3494   14]]\n",
      "[   0  870   46 3494   14]\n",
      "[ 870   46 3494   14]\n"
     ]
    },
    {
     "data": {
      "text/html": [
       "<div>\n",
       "<style scoped>\n",
       "    .dataframe tbody tr th:only-of-type {\n",
       "        vertical-align: middle;\n",
       "    }\n",
       "\n",
       "    .dataframe tbody tr th {\n",
       "        vertical-align: top;\n",
       "    }\n",
       "\n",
       "    .dataframe thead th {\n",
       "        text-align: right;\n",
       "    }\n",
       "</style>\n",
       "<table border=\"1\" class=\"dataframe\">\n",
       "  <thead>\n",
       "    <tr style=\"text-align: right;\">\n",
       "      <th></th>\n",
       "      <th>id</th>\n",
       "      <th>genres</th>\n",
       "      <th>vote_average</th>\n",
       "      <th>vote_count</th>\n",
       "      <th>popularity</th>\n",
       "      <th>title</th>\n",
       "      <th>keywords</th>\n",
       "      <th>overview</th>\n",
       "    </tr>\n",
       "  </thead>\n",
       "  <tbody>\n",
       "    <tr>\n",
       "      <th>870</th>\n",
       "      <td>8536</td>\n",
       "      <td>[{\"id\": 28, \"name\": \"Action\"}, {\"id\": 12, \"nam...</td>\n",
       "      <td>6.5</td>\n",
       "      <td>629</td>\n",
       "      <td>30.515175</td>\n",
       "      <td>Superman II</td>\n",
       "      <td>[{\"id\": 83, \"name\": \"saving the world\"}, {\"id\"...</td>\n",
       "      <td>Three escaped criminals from the planet Krypto...</td>\n",
       "    </tr>\n",
       "    <tr>\n",
       "      <th>46</th>\n",
       "      <td>127585</td>\n",
       "      <td>[{\"id\": 28, \"name\": \"Action\"}, {\"id\": 12, \"nam...</td>\n",
       "      <td>7.5</td>\n",
       "      <td>6032</td>\n",
       "      <td>118.078691</td>\n",
       "      <td>X-Men: Days of Future Past</td>\n",
       "      <td>[{\"id\": 1228, \"name\": \"1970s\"}, {\"id\": 1852, \"...</td>\n",
       "      <td>The ultimate X-Men ensemble fights a war for t...</td>\n",
       "    </tr>\n",
       "    <tr>\n",
       "      <th>3494</th>\n",
       "      <td>27549</td>\n",
       "      <td>[{\"id\": 28, \"name\": \"Action\"}, {\"id\": 12, \"nam...</td>\n",
       "      <td>4.6</td>\n",
       "      <td>17</td>\n",
       "      <td>1.478505</td>\n",
       "      <td>Beastmaster 2: Through the Portal of Time</td>\n",
       "      <td>[{\"id\": 818, \"name\": \"based on novel\"}, {\"id\":...</td>\n",
       "      <td>Mark Singer returns as Dar, the warrior who ca...</td>\n",
       "    </tr>\n",
       "    <tr>\n",
       "      <th>14</th>\n",
       "      <td>49521</td>\n",
       "      <td>[{\"id\": 28, \"name\": \"Action\"}, {\"id\": 12, \"nam...</td>\n",
       "      <td>6.5</td>\n",
       "      <td>6359</td>\n",
       "      <td>99.398009</td>\n",
       "      <td>Man of Steel</td>\n",
       "      <td>[{\"id\": 83, \"name\": \"saving the world\"}, {\"id\"...</td>\n",
       "      <td>A young boy learns that he has extraordinary p...</td>\n",
       "    </tr>\n",
       "  </tbody>\n",
       "</table>\n",
       "</div>"
      ],
      "text/plain": [
       "          id                                             genres  vote_average  \\\n",
       "870     8536  [{\"id\": 28, \"name\": \"Action\"}, {\"id\": 12, \"nam...           6.5   \n",
       "46    127585  [{\"id\": 28, \"name\": \"Action\"}, {\"id\": 12, \"nam...           7.5   \n",
       "3494   27549  [{\"id\": 28, \"name\": \"Action\"}, {\"id\": 12, \"nam...           4.6   \n",
       "14     49521  [{\"id\": 28, \"name\": \"Action\"}, {\"id\": 12, \"nam...           6.5   \n",
       "\n",
       "      vote_count  popularity                                      title  \\\n",
       "870          629   30.515175                                Superman II   \n",
       "46          6032  118.078691                 X-Men: Days of Future Past   \n",
       "3494          17    1.478505  Beastmaster 2: Through the Portal of Time   \n",
       "14          6359   99.398009                               Man of Steel   \n",
       "\n",
       "                                               keywords  \\\n",
       "870   [{\"id\": 83, \"name\": \"saving the world\"}, {\"id\"...   \n",
       "46    [{\"id\": 1228, \"name\": \"1970s\"}, {\"id\": 1852, \"...   \n",
       "3494  [{\"id\": 818, \"name\": \"based on novel\"}, {\"id\":...   \n",
       "14    [{\"id\": 83, \"name\": \"saving the world\"}, {\"id\"...   \n",
       "\n",
       "                                               overview  \n",
       "870   Three escaped criminals from the planet Krypto...  \n",
       "46    The ultimate X-Men ensemble fights a war for t...  \n",
       "3494  Mark Singer returns as Dar, the warrior who ca...  \n",
       "14    A young boy learns that he has extraordinary p...  "
      ]
     },
     "execution_count": 61,
     "metadata": {},
     "output_type": "execute_result"
    }
   ],
   "source": [
    "def get_recommend_movie_list(df, input_title, top=5):\n",
    "    # 입력 제목 영화의 인텍스 값 추출\n",
    "    target_index = df[ df['title'] == input_title].index.values\n",
    "    print( target_index )\n",
    "    # 코사인 유사도 중 비슷한 코사인 유사도를 가진 정보를 추출    \n",
    "    sim_index1 = genres_c_sim[target_index, :top]\n",
    "    print( sim_index1 )\n",
    "    sim_index2 = sim_index1.reshape(-1)\n",
    "    print( sim_index2 )\n",
    "    # 본인 제외\n",
    "    sim_index3 = sim_index2[ sim_index2 != target_index ]\n",
    "    print( sim_index3 )\n",
    "    # 최종 선택   \n",
    "    return  df.iloc[ sim_index3 ]\n",
    "\n",
    "get_recommend_movie_list( df2, 'Pirates of the Caribbean: At World's End' )"
   ]
  },
  {
   "cell_type": "code",
   "execution_count": null,
   "metadata": {},
   "outputs": [],
   "source": [
    "count_vector = CountVectorizer( ngram_range=(1,3) )\n",
    "c_vector_genres = count_vector.fit_transform( df2['genres'] )\n",
    "\n",
    "genres_c_sim = cosine_similarity( c_vector_genres )\n",
    "genres_c_sim = genres_c_sim.argsort()[:, ::-1]"
   ]
  }
 ],
 "metadata": {
  "kernelspec": {
   "display_name": "Python 3",
   "language": "python",
   "name": "python3"
  },
  "language_info": {
   "codemirror_mode": {
    "name": "ipython",
    "version": 3
   },
   "file_extension": ".py",
   "mimetype": "text/x-python",
   "name": "python",
   "nbconvert_exporter": "python",
   "pygments_lexer": "ipython3",
   "version": "3.7.6"
  }
 },
 "nbformat": 4,
 "nbformat_minor": 4
}
